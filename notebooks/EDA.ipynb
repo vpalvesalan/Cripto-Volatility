{
 "cells": [
  {
   "cell_type": "markdown",
   "metadata": {},
   "source": [
    "# Análise Exploratória de Dados (EDA) - Previsão de Volatilidade\n",
    "\n",
    "## Objetivo\n",
    "\n",
    "O objetivo deste notebook é conduzir uma análise exploratória profunda no dataset preparado para a modelagem de previsão de volatilidade do par BTC/USDT. A EDA é dividida em três partes:\n",
    "\n",
    "1.  **Análise da Variável-Alvo (`target_volatility`):** Compreender sua distribuição, comportamento temporal e autocorrelação.\n",
    "2.  **Análise Univariada das Features:** Investigar as características individuais das variáveis preditoras.\n",
    "3.  **Análise Bivariada e Multivariada:** Descobrir as relações entre as features e a variável-alvo e entre as próprias features.\n",
    "\n",
    "Os insights obtidos aqui guiarão a estratégia de modelagem, seleção de features e validação do modelo."
   ]
  },
  {
   "cell_type": "code",
   "execution_count": null,
   "metadata": {},
   "outputs": [],
   "source": [
    "# ==============================================================================\n",
    "# 1. SETUP INICIAL E CARREGAMENTO DOS DADOS\n",
    "# ==============================================================================\n",
    "\n",
    "# Importando bibliotecas necessárias\n",
    "import pandas as pd\n",
    "import numpy as np\n",
    "import matplotlib.pyplot as plt\n",
    "import seaborn as sns\n",
    "import plotly.express as px\n",
    "from statsmodels.graphics.tsaplots import plot_acf, plot_pacf\n",
    "\n",
    "# Importando nossos módulos customizados (assegure que estão no PATH ou no mesmo diretório)\n",
    "from data_downloader import fetch_ohlcv_data\n",
    "from feature_engineering import create_target_variable, create_all_features\n",
    "\n",
    "# Configurações de estilo para os gráficos\n",
    "sns.set_style(\"whitegrid\")\n",
    "plt.rcParams['figure.figsize'] = (12, 6)\n",
    "plt.rcParams['font.size'] = 12\n",
    "\n",
    "# Parâmetros para carregamento (ajuste conforme necessário)\n",
    "SYMBOL = 'BTC/USDT'\n",
    "START_DATE = '2022-01-01'  # 3 anos de dados para uma análise robusta\n",
    "TIMEFRAME = '1h'\n",
    "\n",
    "# Pipeline de criação do dataset\n",
    "df_raw = fetch_ohlcv_data(SYMBOL, START_DATE, TIMEFRAME)\n",
    "df_target = create_target_variable(df_raw)\n",
    "df_features = create_all_features(df_target)\n",
    "\n",
    "# Dataset final limpo, pronto para a EDA e modelagem\n",
    "df_eda = df_features.dropna().copy()\n",
    "\n",
    "print(f\"Dataset pronto para EDA. Dimensões: {df_eda.shape}\")\n",
    "df_eda.head()\n"
   ]
  },
  {
   "cell_type": "markdown",
   "metadata": {},
   "source": [
    "---\n",
    "## Parte 1: Análise da Variável-Alvo (`target_volatility`)\n",
    "\n",
    "Nesta seção, focamos exclusivamente na variável que queremos prever. Compreender suas propriedades é o passo mais crítico antes da modelagem."
   ]
  },
  {
   "cell_type": "code",
   "execution_count": null,
   "metadata": {},
   "outputs": [],
   "source": [
    "# 1.1 Análise de Distribuição\n",
    "plt.figure(figsize=(14, 6))\n",
    "sns.histplot(df_eda['target_volatility'], kde=True, bins=50)\n",
    "plt.title('Distribuição da Volatilidade Alvo (Anualizada)', fontsize=16)\n",
    "plt.xlabel('Volatilidade Anualizada')\n",
    "plt.ylabel('Frequência')\n",
    "\n",
    "skewness = df_eda['target_volatility'].skew()\n",
    "kurtosis = df_eda['target_volatility'].kurt()\n",
    "\n",
    "plt.axvline(df_eda['target_volatility'].mean(), color='r', linestyle='--', label=f'Média')\n",
    "plt.axvline(df_eda['target_volatility'].median(), color='g', linestyle='-', label=f'Mediana')\n",
    "plt.legend()\n",
    "plt.show()\n",
    "\n",
    "print(f\"Assimetria (Skewness): {skewness:.4f}\")\n",
    "print(f\"Curtose (Kurtosis): {kurtosis:.4f}\")\n"
   ]
  },
  {
   "cell_type": "markdown",
   "metadata": {},
   "source": [
    "---\n",
    "## Parte 2: Análise Univariada das Features Preditivas\n",
    "\n",
    "Agora, vamos analisar as características de algumas das nossas features mais importantes."
   ]
  },
  {
   "cell_type": "code",
   "execution_count": null,
   "metadata": {},
   "outputs": [],
   "source": [
    "# 2.1 Estatísticas Descritivas\n",
    "pd.set_option('display.max_columns', None)\n",
    "display(df_eda.describe())\n"
   ]
  },
  {
   "cell_type": "code",
   "execution_count": null,
   "metadata": {},
   "outputs": [],
   "source": [
    "# 2.2 Distribuição das Features Chave\n",
    "key_features = ['vol_realizada_24h', 'vol_ratio_24_168', 'retorno_acumulado_24h', 'volume_ratio_1_24', 'atr_24h']\n",
    "\n",
    "plt.figure(figsize=(15, 8))\n",
    "# Para evitar problemas caso alguma feature não exista, filtrar as presentes\n",
    "key_present = [c for c in key_features if c in df_eda.columns]\n",
    "if len(key_present) == 0:\n",
    "    print(\"Nenhuma das key_features está presente no df_eda. Verifique nomes de colunas.\")\n",
    "else:\n",
    "    sns.boxplot(data=df_eda[key_present])\n",
    "    plt.title('Distribuição de Features Chave (Box Plot)', fontsize=16)\n",
    "    plt.xticks(rotation=45)\n",
    "    plt.show()\n"
   ]
  },
  {
   "cell_type": "markdown",
   "metadata": {},
   "source": [
    "---\n",
    "## Parte 3: Análise Bivariada e Multivariada (Relações)\n",
    "\n",
    "Nesta seção, investigamos como as features se relacionam com o alvo e entre si."
   ]
  },
  {
   "cell_type": "code",
   "execution_count": null,
   "metadata": {},
   "outputs": [],
   "source": [
    "# 3.1 Correlação entre Features e o Alvo\n",
    "# Calcula a matriz de correlação\n",
    "corr_matrix = df_eda.corr()\n",
    "\n",
    "# Foca nas correlações com a variável-alvo\n",
    "if 'target_volatility' in corr_matrix.columns:\n",
    "    corr_target = corr_matrix['target_volatility'].sort_values(ascending=False)\n",
    "    plt.figure(figsize=(8, 10))\n",
    "    sns.heatmap(corr_target.to_frame(), annot=True, cmap='coolwarm', fmt=\".2f\")\n",
    "    plt.title('Correlação das Features com a Volatilidade Alvo')\n",
    "    plt.show()\n",
    "else:\n",
    "    print(\"Coluna 'target_volatility' não encontrada na matriz de correlação.\")\n"
   ]
  },
  {
   "cell_type": "code",
   "execution_count": null,
   "metadata": {},
   "outputs": [],
   "source": [
    "# 3.2 Análise de Multicolinearidade\n",
    "plt.figure(figsize=(18, 15))\n",
    "sns.heatmap(corr_matrix, cmap='coolwarm', annot=False)\n",
    "plt.title('Matriz de Correlação Completa (Multicolinearidade)', fontsize=16)\n",
    "plt.show()\n"
   ]
  },
  {
   "cell_type": "code",
   "execution_count": null,
   "metadata": {},
   "outputs": [],
   "source": [
    "# 3.3 Scatter Plots: Top Features vs. Target\n",
    "if 'target_volatility' in corr_matrix.columns:\n",
    "    top_features = corr_target.index[1:5]  # Pega as 4 features mais correlacionadas (excluindo o próprio alvo)\n",
    "    fig, axes = plt.subplots(2, 2, figsize=(16, 12))\n",
    "    fig.suptitle('Relação das Top Features com a Volatilidade Alvo', fontsize=18)\n",
    "    for i, feature in enumerate(top_features):\n",
    "        ax = axes[i//2, i%2]\n",
    "        if feature in df_eda.columns:\n",
    "            sns.scatterplot(x=df_eda[feature], y=df_eda['target_volatility'], ax=ax, alpha=0.3, s=10)\n",
    "            ax.set_title(f'Target vs. {feature}')\n",
    "        else:\n",
    "            ax.text(0.5, 0.5, f'Feature {feature} não encontrada', ha='center')\n",
    "    plt.tight_layout(rect=[0, 0.03, 1, 0.95])\n",
    "    plt.show()\n",
    "else:\n",
    "    print(\"Não foi possível calcular top_features porque 'target_volatility' não está presente.\")\n"
   ]
  },
  {
   "cell_type": "code",
   "execution_count": null,
   "metadata": {},
   "outputs": [],
   "source": [
    "# 3.4 Análise de Features Temporais\n",
    "# Garantir colunas horárias existam\n",
    "if 'hora_do_dia' in df_eda.columns and 'dia_da_semana' in df_eda.columns:\n",
    "    fig, (ax1, ax2) = plt.subplots(1, 2, figsize=(16, 6))\n",
    "    sns.boxplot(x='hora_do_dia', y='target_volatility', data=df_eda, ax=ax1)\n",
    "    ax1.set_title('Volatilidade Alvo por Hora do Dia')\n",
    "    sns.boxplot(x='dia_da_semana', y='target_volatility', data=df_eda, ax=ax2)\n",
    "    # Ajuste rótulos dia da semana caso sejam numéricos (0-6)\n",
    "    try:\n",
    "        ax2.set_xticklabels(['Seg', 'Ter', 'Qua', 'Qui', 'Sex', 'Sáb', 'Dom'])\n",
    "    except Exception:\n",
    "        pass\n",
    "    ax2.set_title('Volatilidade Alvo por Dia da Semana')\n",
    "    plt.tight_layout()\n",
    "    plt.show()\n",
    "else:\n",
    "    print(\"As colunas 'hora_do_dia' e/ou 'dia_da_semana' não foram encontradas em df_eda.\")\n"
   ]
  },
  {
   "cell_type": "markdown",
   "metadata": {},
   "source": [
    "---\n",
    "## Conclusão da EDA e Próximos Passos\n",
    "\n",
    "1. **Validação da Premissa:** A análise costuma confirmar a forte persistência da volatilidade, validando a hipótese central do projeto.\n",
    "2. **Seleção de Features:** Manteremos o conjunto completo para a primeira versão do modelo e usaremos feature importance para refinar.\n",
    "3. **Estratégia de Validação:** Utilizar validação cruzada baseada em tempo (Time Series CV) ou divisão temporal treino-teste para evitar vazamento.\n",
    "4. **Baseline do Modelo:** Um modelo ingênuo que prevê `target_volatility(t) = vol_realizada_24h(t)` é um bom baseline. Próximo passo: preparar dados e treinar LightGBM."
   ]
  }
 ],
 "metadata": {
  "kernelspec": {
   "display_name": "Python 3",
   "language": "python",
   "name": "python3"
  },
  "language_info": {
   "name": "python",
   "version": "3.10"
  }
 },
 "nbformat": 4,
 "nbformat_minor": 5
}
